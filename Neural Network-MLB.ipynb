{
 "cells": [
  {
   "cell_type": "code",
   "execution_count": 1,
   "metadata": {},
   "outputs": [],
   "source": [
    "#imports\n",
    "import torch \n",
    "import torch.nn as nn\n",
    "import matplotlib.pyplot as plt\n",
    "import pybaseball\n",
    "from torch.autograd import Variable\n",
    "from baseball_scraper import pitching_stats_range"
   ]
  },
  {
   "cell_type": "code",
   "execution_count": 2,
   "metadata": {},
   "outputs": [],
   "source": [
    "#imports\n",
    "from pybaseball import team_batting\n",
    "from pybaseball import team_pitching\n",
    "from pybaseball import pitching_stats\n",
    "import tensorflow as tf\n",
    "import numpy as np\n",
    "from sklearn.model_selection import train_test_split"
   ]
  },
  {
   "cell_type": "code",
   "execution_count": 4,
   "metadata": {},
   "outputs": [],
   "source": [
    "#imports\n",
    "from baseball_scraper import statcast as bs\n",
    "from baseball_scraper import playerid_lookup\n",
    "from baseball_scraper import statcast_pitcher\n",
    "import mlbgame as mlb\n",
    "import pandas, numpy\n",
    "import requests, bs4\n",
    "import re, os\n",
    "from datetime import datetime\n",
    "##pulling data as a data frame\n",
    "pitching = pitching_stats_range(\"2021-04-01\",\"2021-08-15\")\n",
    "tbatting = team_batting(2021)\n",
    "tpitching = team_pitching(2021)"
   ]
  },
  {
   "cell_type": "code",
   "execution_count": 5,
   "metadata": {},
   "outputs": [],
   "source": [
    "##teams need to be renamed with their initials because\n",
    "##the two APIs refer to the same team different\n",
    "init = {\"Astros\": \"HOU\",\n",
    "        \"Dodgers\": \"LAD\",\n",
    "        \"Rays\": \"TBR\",\n",
    "        \"White Sox\": \"CHW\",\n",
    "        \"Giants\": \"SFG\",\n",
    "        \"Blue Jays\": \"TOR\",\n",
    "        \"Padres\": \"SDP\",\n",
    "        \"Red Sox\": \"BOS\",\n",
    "        \"Athletics\": \"OAK\",\n",
    "        \"Cubs\": \"CHC\",\n",
    "        \"Mets\": \"NYM\",\n",
    "        \"Yankees\": \"NYY\",\n",
    "        \"Braves\": \"ATL\",\n",
    "        \"Phillies\": \"PHI\",\n",
    "        \"Marlins\": \"MIA\",\n",
    "        \"Brewers\": \"MIL\",\n",
    "        \"Angels\": \"LAA\",\n",
    "        \"Reds\": \"CIN\",\n",
    "        \"Indians\": \"CLE\",\n",
    "        \"Nationals\": \"WSN\",\n",
    "        \"Rangers\": \"TEX\",\n",
    "        \"Cardinals\": \"STL\",\n",
    "        \"Mariners\": \"SEA\",\n",
    "        \"Royals\": \"KCR\",\n",
    "        \"Rockies\": \"COL\",\n",
    "        \"Orioles\": \"BAL\",\n",
    "        \"Tigers\": \"DET\",\n",
    "        \"Twins\": \"MIN\",\n",
    "        \"D-backs\": \"ARI\",\n",
    "        \"Pirates\": \"PIT\"\n",
    "       }"
   ]
  },
  {
   "cell_type": "code",
   "execution_count": 6,
   "metadata": {},
   "outputs": [
    {
     "name": "stdout",
     "output_type": "stream",
     "text": [
      "    teamIDfg Team   ERA  WHIP     K9    AVG    OBP    SLG\n",
      "0         22  LAD  3.13  1.13  10.16  0.247  0.336  0.427\n",
      "1         30  SFG  3.32  1.12   8.79  0.247  0.327  0.437\n",
      "2         23  MIL  3.35  1.17  10.16  0.233  0.318  0.400\n",
      "3         10  OAK  3.64  1.20   8.41  0.238  0.318  0.411\n",
      "4         21  HOU  3.64  1.21   9.29  0.266  0.338  0.439\n",
      "5          4  CHW  3.65  1.19  10.41  0.250  0.332  0.419\n",
      "6         29  SDP  3.68  1.24   9.72  0.247  0.328  0.411\n",
      "7          9  NYY  3.72  1.18   9.62  0.237  0.326  0.396\n",
      "8         25  NYM  3.78  1.22   9.59  0.234  0.313  0.380\n",
      "9         12  TBR  3.79  1.19   9.40  0.236  0.317  0.415\n",
      "10        20  MIA  3.79  1.25   8.73  0.238  0.305  0.382\n",
      "11        14  TOR  3.88  1.26   9.35  0.265  0.328  0.458\n",
      "12        16  ATL  4.09  1.30   9.17  0.242  0.322  0.431\n",
      "13        28  STL  4.15  1.33   7.88  0.238  0.310  0.394\n",
      "14         3  BOS  4.29  1.38   9.66  0.260  0.325  0.444\n",
      "15        11  SEA  4.32  1.28   8.43  0.222  0.299  0.382\n",
      "16        26  PHI  4.41  1.30   9.30  0.241  0.318  0.405\n",
      "17         6  DET  4.47  1.36   8.12  0.241  0.309  0.399\n",
      "18        18  CIN  4.48  1.38   9.66  0.253  0.334  0.433\n",
      "19         5  CLE  4.53  1.30   9.33  0.233  0.300  0.402\n",
      "20        17  CHC  4.57  1.38   8.89  0.229  0.305  0.394\n",
      "21        24  WSN  4.61  1.31   8.62  0.257  0.330  0.413\n",
      "22         1  LAA  4.70  1.36   9.45  0.251  0.313  0.420\n",
      "23        19  COL  4.72  1.37   8.34  0.248  0.316  0.406\n",
      "24        13  TEX  4.72  1.35   7.98  0.223  0.289  0.369\n",
      "25         8  MIN  4.90  1.33   8.45  0.244  0.318  0.428\n",
      "26         7  KCR  4.94  1.43   8.91  0.241  0.301  0.385\n",
      "27        27  PIT  5.08  1.41   8.51  0.235  0.305  0.362\n",
      "28        15  ARI  5.34  1.45   8.05  0.235  0.311  0.379\n",
      "29         2  BAL  5.79  1.50   8.39  0.239  0.303  0.401\n"
     ]
    }
   ],
   "source": [
    "##initialize the dataframe where data for each team is pulled from\n",
    "##TO DO: csv\n",
    "tpitching = tpitching[[\"teamIDfg\", \"Team\",\"ERA\",\"WHIP\",\"K/9\"]]\n",
    "tbatting = tbatting[ [\"teamIDfg\",\"AVG\",\"OBP\",\"SLG\"]]\n",
    "frame = tpitching.merge(tbatting)\n",
    "frame.columns = [\"teamIDfg\", \"Team\",\"ERA\",\"WHIP\",\"K9\",\"AVG\",\"OBP\",\"SLG\"]\n",
    "print(frame)"
   ]
  },
  {
   "cell_type": "code",
   "execution_count": 7,
   "metadata": {},
   "outputs": [],
   "source": [
    "#make dataframe that will contain all the data from each individual season\n",
    "cols =  [\"Team1ID\",\"p1ERA\", \"p1WHIP\", \"p1K9\", \"t1BA\",\"t1OBP\", \"t1SLG\", \"t1ERA\", \"t1WHIP\"\n",
    "         , \"t1K9\",\"Team2ID\",\"p2ERA\", \"p2WHIP\",\"p2K9\", \"t2BA\", \"t2OBP\", \"t2SLG\",\"t2ERA\" , \"t2WHIP\",\"t2K9\"]\n",
    "data = pandas.DataFrame(columns = cols)\n",
    "##data that could be normalized\n",
    "scaled_data= [\"p1ERA\",\"p1WHIP\", \"p1K9\", \"t1BA\",\"t1OBP\", \"t1SLG\", \"t1ERA\", \"t1WHIP\"\n",
    "           ,\"t1K9\",\"p2ERA\", \"p2WHIP\",\"p2K9\", \"t2BA\", \"t2OBP\", \"t2SLG\",\"t2ERA\" , \"t2WHIP\",\"t2K9\"]"
   ]
  },
  {
   "cell_type": "code",
   "execution_count": 8,
   "metadata": {},
   "outputs": [],
   "source": [
    "##helper function that will \n",
    "##merge two dictionaries together\n",
    "def Merge(dict1, dict2):\n",
    "    return(dict2.update(dict1))"
   ]
  },
  {
   "cell_type": "code",
   "execution_count": 9,
   "metadata": {},
   "outputs": [],
   "source": [
    "import random\n",
    "from sklearn.preprocessing import MinMaxScaler\n",
    "scaler = MinMaxScaler()"
   ]
  },
  {
   "cell_type": "code",
   "execution_count": 10,
   "metadata": {
    "scrolled": true
   },
   "outputs": [
    {
     "name": "stdout",
     "output_type": "stream",
     "text": [
      "      Team1ID  p1ERA  p1WHIP  p1K9   t1BA  t1OBP  t1SLG  t1ERA  t1WHIP  t1K9  \\\n",
      "0         9.0   8.79   2.163  13.8  0.237  0.326  0.396   3.72    1.18  9.62   \n",
      "1         5.0   3.28   1.246  12.9  0.233  0.300  0.402   4.53    1.30  9.33   \n",
      "2         8.0   7.83   1.649   5.2  0.244  0.318  0.428   4.90    1.33  8.45   \n",
      "3        27.0   5.76   1.382  12.4  0.235  0.305  0.362   5.08    1.41  8.51   \n",
      "4        16.0   5.68   1.474   6.6  0.242  0.322  0.431   4.09    1.30  9.17   \n",
      "...       ...    ...     ...   ...    ...    ...    ...    ...     ...   ...   \n",
      "1161      7.0   5.35   1.269   8.9  0.241  0.301  0.385   4.94    1.43  8.91   \n",
      "1162     16.0   3.78   1.286   9.3  0.242  0.322  0.431   4.09    1.30  9.17   \n",
      "1163     21.0   4.26   0.789   9.2  0.266  0.338  0.439   3.64    1.21  9.29   \n",
      "1164      8.0   4.53   1.301   9.7  0.244  0.318  0.428   4.90    1.33  8.45   \n",
      "1165     10.0   3.06   1.033   9.2  0.238  0.318  0.411   3.64    1.20  8.41   \n",
      "\n",
      "      Team2ID  p2ERA  p2WHIP  p2K9   t2BA  t2OBP  t2SLG  t2ERA  t2WHIP   t2K9  \n",
      "0        14.0   2.55   1.228  11.9  0.265  0.328  0.458   3.88    1.26   9.35  \n",
      "1         6.0   3.44   1.203   7.1  0.241  0.309  0.399   4.47    1.36   8.12  \n",
      "2        23.0   1.74   0.798  15.7  0.233  0.318  0.400   3.35    1.17  10.16  \n",
      "3        17.0   4.15   1.341   6.8  0.229  0.305  0.394   4.57    1.38   8.89  \n",
      "4        26.0   4.06   1.218   7.7  0.241  0.318  0.405   4.41    1.30   9.30  \n",
      "...       ...    ...     ...   ...    ...    ...    ...    ...     ...    ...  \n",
      "1161      3.0   4.75   1.524   7.7  0.260  0.325  0.444   4.29    1.38   9.66  \n",
      "1162     25.0   5.54   1.395   9.3  0.234  0.313  0.380   3.78    1.22   9.59  \n",
      "1163      2.0   3.80   1.477  12.4  0.239  0.303  0.401   5.79    1.50   8.39  \n",
      "1164      4.0   4.04   1.251  11.9  0.250  0.332  0.419   3.65    1.19  10.41  \n",
      "1165     13.0   4.88   1.191   7.6  0.223  0.289  0.369   4.72    1.35   7.98  \n",
      "\n",
      "[1166 rows x 20 columns]\n"
     ]
    }
   ],
   "source": [
    "##running through games and adding neccessary data\n",
    "result = []\n",
    "\n",
    "for m in range(4,7):\n",
    "    for d in range(1,31):\n",
    "        schedules = mlb.games(2021,m,d)\n",
    "        games = mlb.combine_games(schedules)\n",
    "        for game in games:\n",
    "            try:\n",
    "                ran = random.randint(0,1)\n",
    "                if ran == 0:\n",
    "                    t1 = True\n",
    "                    pitcher1 = game.w_pitcher\n",
    "                    team1 = game.w_team\n",
    "                    pitcher2 = game.l_pitcher\n",
    "                    team2 = game.l_team\n",
    "                else:\n",
    "                    t1 = False\n",
    "                    pitcher2 = game.w_pitcher\n",
    "                    team2 = game.w_team\n",
    "                    pitcher1 = game.l_pitcher\n",
    "                    team1 = game.l_team\n",
    "            except AttributeError:\n",
    "                continue\n",
    "            try:\n",
    "                team1 = frame.loc[frame['Team'] == init[team1]]\n",
    "                df = {\"Team1ID\": team1.teamIDfg.values[0]}\n",
    "                p1 = pitching.loc[pitching['Name'] == pitcher1]\n",
    "                p1df = {\"p1ERA\": p1.ERA.values[0], \"p1WHIP\": p1.WHIP.values[0], \"p1K9\": p1.SO9.values[0]}\n",
    "                Merge(p1df,df)\n",
    "                t1bdf = {\"t1BA\": team1.AVG.values[0] ,\"t1OBP\": team1.OBP.values[0], \"t1SLG\": team1.SLG.values[0]}\n",
    "                Merge(t1bdf, df)\n",
    "                t1pdf = {\"t1ERA\": team1.ERA.values[0], \"t1WHIP\": team1.WHIP.values[0], \"t1K9\": team1.K9.values[0]}\n",
    "                Merge(t1pdf,df)\n",
    "                p2 = pitching.loc[pitching['Name'] == pitcher2]\n",
    "                team2 = frame.loc[frame['Team'] == init[team2]]\n",
    "                p2df = {\"Team2ID\": team2.teamIDfg.values[0], \"p2ERA\": p2.ERA.values[0], \"p2WHIP\": p2.WHIP.values[0] ,\"p2K9\": p2.SO9.values[0]}\n",
    "                Merge(p2df,df)\n",
    "                t2bdf = {\"t2BA\": team2.AVG.values[0], \"t2OBP\": team2.OBP.values[0], \"t2SLG\": team2.SLG.values[0]}\n",
    "                Merge(t2bdf,df)\n",
    "                t2pdf = {\"t2ERA\": team2.ERA.values[0] , \"t2WHIP\": team2.WHIP.values[0] ,\"t2K9\": team2.K9.values[0]}\n",
    "                Merge(t2pdf,df)\n",
    "                data = data.append(df,ignore_index=True)\n",
    "                if t1:\n",
    "                    result.append([1,0])\n",
    "                else:\n",
    "                    result.append([0,1])\n",
    "            except IndexError:\n",
    "                continue\n",
    "print(data)\n"
   ]
  },
  {
   "cell_type": "code",
   "execution_count": 11,
   "metadata": {},
   "outputs": [],
   "source": [
    "model = tf.keras.Sequential([\n",
    "        tf.keras.layers.InputLayer(input_shape=(20,)),\n",
    "        tf.keras.layers.Dense(512, activation='relu'),\n",
    "        tf.keras.layers.Dense(256, activation='relu'),\n",
    "        tf.keras.layers.Dense(256, activation='relu'),\n",
    "        tf.keras.layers.Dense(256, activation='relu'),\n",
    "        tf.keras.layers.Dense(128, activation='relu'),\n",
    "        tf.keras.layers.Dense(2,activation = 'softmax')])"
   ]
  },
  {
   "cell_type": "code",
   "execution_count": 12,
   "metadata": {},
   "outputs": [],
   "source": [
    "data = np.array(data)\n",
    "result = np.array(result)\n",
    "X_train, X_test, y_train, y_test = train_test_split(data,\n",
    "                                                    result,\n",
    "                                                    test_size=0.33,\n",
    "                                                    random_state=42)\n"
   ]
  },
  {
   "cell_type": "code",
   "execution_count": 13,
   "metadata": {},
   "outputs": [
    {
     "name": "stdout",
     "output_type": "stream",
     "text": [
      "Epoch 1/10\n",
      "25/25 [==============================] - 0s 1ms/step - loss: 0.2821 - accuracy: 0.5083\n",
      "Epoch 2/10\n",
      "25/25 [==============================] - 0s 1ms/step - loss: 0.2453 - accuracy: 0.5570\n",
      "Epoch 3/10\n",
      "25/25 [==============================] - 0s 1ms/step - loss: 0.2435 - accuracy: 0.5723\n",
      "Epoch 4/10\n",
      "25/25 [==============================] - 0s 1ms/step - loss: 0.2337 - accuracy: 0.6018\n",
      "Epoch 5/10\n",
      "25/25 [==============================] - 0s 1ms/step - loss: 0.2320 - accuracy: 0.6197\n",
      "Epoch 6/10\n",
      "25/25 [==============================] - 0s 1ms/step - loss: 0.2368 - accuracy: 0.5903\n",
      "Epoch 7/10\n",
      "25/25 [==============================] - 0s 1ms/step - loss: 0.2294 - accuracy: 0.6120\n",
      "Epoch 8/10\n",
      "25/25 [==============================] - 0s 1ms/step - loss: 0.2306 - accuracy: 0.6133\n",
      "Epoch 9/10\n",
      "25/25 [==============================] - 0s 1ms/step - loss: 0.2253 - accuracy: 0.6223\n",
      "Epoch 10/10\n",
      "25/25 [==============================] - 0s 1ms/step - loss: 0.2213 - accuracy: 0.6364\n"
     ]
    },
    {
     "data": {
      "text/plain": [
       "<tensorflow.python.keras.callbacks.History at 0x1ab212734c0>"
      ]
     },
     "execution_count": 13,
     "metadata": {},
     "output_type": "execute_result"
    }
   ],
   "source": [
    "model.compile(optimizer='adam',\n",
    "              loss=tf.keras.losses.MeanSquaredError(),\n",
    "              metrics=['accuracy'])\n",
    "model.fit(X_train, y_train, epochs=10)"
   ]
  },
  {
   "cell_type": "code",
   "execution_count": 14,
   "metadata": {},
   "outputs": [
    {
     "name": "stdout",
     "output_type": "stream",
     "text": [
      "13/13 - 0s - loss: 0.2180 - accuracy: 0.6701\n"
     ]
    }
   ],
   "source": [
    "test_loss, test_acc = model.evaluate(X_test,  y_test, verbose=2)"
   ]
  },
  {
   "cell_type": "code",
   "execution_count": 15,
   "metadata": {},
   "outputs": [],
   "source": [
    "tdata = pandas.DataFrame(columns = cols)"
   ]
  },
  {
   "cell_type": "code",
   "execution_count": 16,
   "metadata": {},
   "outputs": [],
   "source": [
    "def fetch_data(team1, pitcher1, team2, pitcher2):\n",
    "    tdata = pandas.DataFrame(columns = cols)\n",
    "    team1 = frame.loc[frame['Team'] == init[team1]]\n",
    "    df = {\"Team1ID\": team1.teamIDfg.values[0]}\n",
    "    p1 = pitching.loc[pitching['Name'] == pitcher1]\n",
    "    p1df = {\"p1ERA\": p1.ERA.values[0], \"p1WHIP\": p1.WHIP.values[0], \"p1K9\": p1.SO9.values[0]}\n",
    "    Merge(p1df,df)\n",
    "    t1bdf = {\"t1BA\": team1.AVG.values[0] ,\"t1OBP\": team1.OBP.values[0], \"t1SLG\": team1.SLG.values[0]}\n",
    "    Merge(t1bdf, df)\n",
    "    t1pdf = {\"t1ERA\": team1.ERA.values[0], \"t1WHIP\": team1.WHIP.values[0], \"t1K9\": team1.K9.values[0]}\n",
    "    Merge(t1pdf,df)\n",
    "    p2 = pitching.loc[pitching['Name'] == pitcher2]\n",
    "    team2 = frame.loc[frame['Team'] == init[team2]]\n",
    "    p2df = {\"Team2ID\": team2.teamIDfg.values[0], \"p2ERA\": p2.ERA.values[0], \"p2WHIP\": p2.WHIP.values[0] ,\"p2K9\": p2.SO9.values[0]}\n",
    "    Merge(p2df,df)\n",
    "    t2bdf = {\"t2BA\": team2.AVG.values[0], \"t2OBP\": team2.OBP.values[0], \"t2SLG\": team2.SLG.values[0]}\n",
    "    Merge(t2bdf,df)\n",
    "    t2pdf = {\"t2ERA\": team2.ERA.values[0] , \"t2WHIP\": team2.WHIP.values[0] ,\"t2K9\": team2.K9.values[0]}\n",
    "    Merge(t2pdf,df)\n",
    "    tdata = tdata.append(df,ignore_index=True)\n",
    "    tdata = np.array(tdata)\n",
    "    return tdata"
   ]
  },
  {
   "cell_type": "code",
   "execution_count": 28,
   "metadata": {},
   "outputs": [
    {
     "name": "stdout",
     "output_type": "stream",
     "text": [
      "1/1 - 0s\n"
     ]
    },
    {
     "data": {
      "text/plain": [
       "array([[0.19598092, 0.80401903]], dtype=float32)"
      ]
     },
     "execution_count": 28,
     "metadata": {},
     "output_type": "execute_result"
    }
   ],
   "source": [
    "##model that allows team and pitcher input to make a prediction\n",
    "model.predict(fetch_data(\"D-backs\",\"Reid Detmers\", \"Dodgers\", \"Walker Buehler\"), verbose = 2)"
   ]
  },
  {
   "cell_type": "code",
   "execution_count": 17,
   "metadata": {},
   "outputs": [
    {
     "name": "stdout",
     "output_type": "stream",
     "text": [
      "Orioles Matt Harvey Rays Collin McHugh\n",
      "1/1 - 0s\n",
      "[[0.12998523 0.8700148 ]]\n",
      "Astros Jake Odorizzi Royals Carlos Hernandez\n",
      "1/1 - 0s\n",
      "[[0.4503953 0.5496047]]\n",
      "Indians Cal Quantrill Twins Griffin Jax\n",
      "1/1 - 0s\n",
      "[[0.6854158 0.3145842]]\n",
      "Athletics Frankie Montas White Sox Dallas Keuchel\n",
      "1/1 - 0s\n",
      "[[0.48932981 0.5106702 ]]\n",
      "Padres Ryan Weathers Rockies Antonio Senzatela\n",
      "1/1 - 0s\n",
      "[[0.5176937  0.48230633]]\n",
      "Mets Rich Hill Giants Kevin Gausman\n",
      "1/1 - 0s\n",
      "[[0.25058076 0.7494193 ]]\n",
      "Pirates Steven Brault Dodgers . \n",
      "Pass\n"
     ]
    }
   ],
   "source": [
    "games = mlb.day(2021,8,16)\n",
    "for a_game in games:\n",
    "    try:\n",
    "        ateam = a_game.away_team\n",
    "        apitcher = a_game.p_pitcher_home\n",
    "        hteam = a_game.home_team\n",
    "        hpitcher = a_game.p_pitcher_away\n",
    "        if apitcher and hpitcher != '.':\n",
    "            try:\n",
    "                print(ateam, apitcher, hteam, hpitcher)\n",
    "                print(model.predict(fetch_data(ateam ,apitcher, hteam, hpitcher), verbose = 2))\n",
    "            except IndexError:\n",
    "                print(\"Pass\")\n",
    "                continue\n",
    "    except AttributeError:\n",
    "        continue"
   ]
  },
  {
   "cell_type": "code",
   "execution_count": null,
   "metadata": {},
   "outputs": [],
   "source": []
  }
 ],
 "metadata": {
  "kernelspec": {
   "display_name": "Python 3",
   "language": "python",
   "name": "python3"
  },
  "language_info": {
   "codemirror_mode": {
    "name": "ipython",
    "version": 3
   },
   "file_extension": ".py",
   "mimetype": "text/x-python",
   "name": "python",
   "nbconvert_exporter": "python",
   "pygments_lexer": "ipython3",
   "version": "3.8.5"
  }
 },
 "nbformat": 4,
 "nbformat_minor": 4
}
