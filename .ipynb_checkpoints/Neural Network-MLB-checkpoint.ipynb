{
 "cells": [
  {
   "cell_type": "code",
   "execution_count": 1,
   "metadata": {},
   "outputs": [],
   "source": [
    "#imports\n",
    "import torch \n",
    "import torch.nn as nn\n",
    "import matplotlib.pyplot as plt\n",
    "import pybaseball\n",
    "from torch.autograd import Variable\n",
    "from baseball_scraper import pitching_stats_range"
   ]
  },
  {
   "cell_type": "code",
   "execution_count": 2,
   "metadata": {},
   "outputs": [],
   "source": [
    "#imports\n",
    "from pybaseball import team_batting\n",
    "from pybaseball import team_pitching\n",
    "from pybaseball import pitching_stats\n",
    "import tensorflow as tf\n",
    "import numpy as np\n",
    "from sklearn.model_selection import train_test_split"
   ]
  },
  {
   "cell_type": "code",
   "execution_count": 19,
   "metadata": {},
   "outputs": [],
   "source": [
    "#imports\n",
    "from baseball_scraper import statcast as bs\n",
    "from baseball_scraper import playerid_lookup\n",
    "from baseball_scraper import statcast_pitcher\n",
    "import mlbgame as mlb\n",
    "import pandas, numpy\n",
    "import requests, bs4\n",
    "import re, os\n",
    "from datetime import datetime\n",
    "##pulling data as a data frame\n",
    "pitching = pitching_stats_range(\"2021-04-01\",\"2021-08-01\")\n",
    "tbatting = team_batting(2021)\n",
    "tpitching = team_pitching(2021)"
   ]
  },
  {
   "cell_type": "code",
   "execution_count": 20,
   "metadata": {},
   "outputs": [],
   "source": [
    "##teams need to be renamed with their initials because\n",
    "##the two APIs refer to the same team different\n",
    "init = {\"Astros\": \"HOU\",\n",
    "        \"Dodgers\": \"LAD\",\n",
    "        \"Rays\": \"TBR\",\n",
    "        \"White Sox\": \"CHW\",\n",
    "        \"Giants\": \"SFG\",\n",
    "        \"Blue Jays\": \"TOR\",\n",
    "        \"Padres\": \"SDP\",\n",
    "        \"Red Sox\": \"BOS\",\n",
    "        \"Athletics\": \"OAK\",\n",
    "        \"Cubs\": \"CHC\",\n",
    "        \"Mets\": \"NYM\",\n",
    "        \"Yankees\": \"NYY\",\n",
    "        \"Braves\": \"ATL\",\n",
    "        \"Phillies\": \"PHI\",\n",
    "        \"Marlins\": \"MIA\",\n",
    "        \"Brewers\": \"MIL\",\n",
    "        \"Angels\": \"LAA\",\n",
    "        \"Reds\": \"CIN\",\n",
    "        \"Indians\": \"CLE\",\n",
    "        \"Nationals\": \"WSN\",\n",
    "        \"Rangers\": \"TEX\",\n",
    "        \"Cardinals\": \"STL\",\n",
    "        \"Mariners\": \"SEA\",\n",
    "        \"Royals\": \"KCR\",\n",
    "        \"Rockies\": \"COL\",\n",
    "        \"Orioles\": \"BAL\",\n",
    "        \"Tigers\": \"DET\",\n",
    "        \"Twins\": \"MIN\",\n",
    "        \"D-backs\": \"ARI\",\n",
    "        \"Pirates\": \"PIT\"\n",
    "       }"
   ]
  },
  {
   "cell_type": "code",
   "execution_count": 21,
   "metadata": {},
   "outputs": [
    {
     "name": "stdout",
     "output_type": "stream",
     "text": [
      "    teamIDfg Team   ERA  WHIP     K9    AVG    OBP    SLG\n",
      "0         22  LAD  3.21  1.13  10.05  0.246  0.336  0.423\n",
      "1         23  MIL  3.32  1.16  10.08  0.227  0.317  0.388\n",
      "2         30  SFG  3.40  1.12   8.78  0.246  0.328  0.439\n",
      "3         20  MIA  3.52  1.21   8.80  0.234  0.302  0.373\n",
      "4         12  TBR  3.57  1.15   9.48  0.234  0.316  0.407\n",
      "5         29  SDP  3.57  1.22   9.62  0.245  0.328  0.411\n",
      "6          4  CHW  3.64  1.20  10.25  0.251  0.334  0.414\n",
      "7         10  OAK  3.66  1.21   8.55  0.233  0.312  0.402\n",
      "8         25  NYM  3.66  1.22   9.67  0.236  0.315  0.385\n",
      "9         21  HOU  3.76  1.22   9.20  0.267  0.341  0.440\n",
      "10         9  NYY  3.81  1.18   9.68  0.233  0.322  0.389\n",
      "11        14  TOR  3.92  1.25   9.45  0.264  0.327  0.457\n",
      "12        16  ATL  4.12  1.30   9.14  0.242  0.321  0.428\n",
      "13        17  CHC  4.20  1.34   8.90  0.227  0.306  0.398\n",
      "14         3  BOS  4.21  1.38   9.48  0.256  0.320  0.438\n",
      "15        28  STL  4.22  1.36   7.99  0.234  0.305  0.388\n",
      "16        24  WSN  4.46  1.30   8.75  0.258  0.332  0.419\n",
      "17         5  CLE  4.47  1.31   9.52  0.230  0.297  0.400\n",
      "18        26  PHI  4.49  1.32   9.32  0.243  0.322  0.403\n",
      "19        11  SEA  4.51  1.30   8.42  0.222  0.299  0.382\n",
      "20        18  CIN  4.52  1.39   9.66  0.252  0.333  0.423\n",
      "21         6  DET  4.59  1.35   8.14  0.241  0.311  0.399\n",
      "22        13  TEX  4.66  1.34   8.07  0.225  0.295  0.373\n",
      "23        19  COL  4.70  1.37   8.15  0.244  0.312  0.397\n",
      "24         1  LAA  4.76  1.37   9.62  0.253  0.314  0.428\n",
      "25         7  KCR  4.95  1.43   8.86  0.242  0.303  0.392\n",
      "26         8  MIN  4.99  1.34   8.44  0.244  0.317  0.429\n",
      "27        27  PIT  5.04  1.40   8.52  0.236  0.308  0.365\n",
      "28         2  BAL  5.39  1.46   8.52  0.237  0.302  0.399\n",
      "29        15  ARI  5.47  1.46   8.09  0.233  0.309  0.378\n"
     ]
    }
   ],
   "source": [
    "##initialize the dataframe where data for each team is pulled from\n",
    "##TO DO: csv\n",
    "tpitching = tpitching[[\"teamIDfg\", \"Team\",\"ERA\",\"WHIP\",\"K/9\"]]\n",
    "tbatting = tbatting[ [\"teamIDfg\",\"AVG\",\"OBP\",\"SLG\"]]\n",
    "frame = tpitching.merge(tbatting)\n",
    "frame.columns = [\"teamIDfg\", \"Team\",\"ERA\",\"WHIP\",\"K9\",\"AVG\",\"OBP\",\"SLG\"]\n",
    "print(frame)"
   ]
  },
  {
   "cell_type": "code",
   "execution_count": 22,
   "metadata": {},
   "outputs": [],
   "source": [
    "#make dataframe that will contain all the data from each individual season\n",
    "cols =  [\"Team1ID\",\"p1ERA\", \"p1WHIP\", \"p1K9\", \"t1BA\",\"t1OBP\", \"t1SLG\", \"t1ERA\", \"t1WHIP\"\n",
    "         , \"t1K9\",\"Team2ID\",\"p2ERA\", \"p2WHIP\",\"p2K9\", \"t2BA\", \"t2OBP\", \"t2SLG\",\"t2ERA\" , \"t2WHIP\",\"t2K9\"]\n",
    "data = pandas.DataFrame(columns = cols)\n",
    "##data that could be normalized\n",
    "scaled_data= [\"p1ERA\",\"p1WHIP\", \"p1K9\", \"t1BA\",\"t1OBP\", \"t1SLG\", \"t1ERA\", \"t1WHIP\"\n",
    "           ,\"t1K9\",\"p2ERA\", \"p2WHIP\",\"p2K9\", \"t2BA\", \"t2OBP\", \"t2SLG\",\"t2ERA\" , \"t2WHIP\",\"t2K9\"]"
   ]
  },
  {
   "cell_type": "code",
   "execution_count": 23,
   "metadata": {},
   "outputs": [],
   "source": [
    "##helper function that will \n",
    "##merge two dictionaries together\n",
    "def Merge(dict1, dict2):\n",
    "    return(dict2.update(dict1))"
   ]
  },
  {
   "cell_type": "code",
   "execution_count": 24,
   "metadata": {},
   "outputs": [],
   "source": [
    "import random\n",
    "from sklearn.preprocessing import MinMaxScaler\n",
    "scaler = MinMaxScaler()"
   ]
  },
  {
   "cell_type": "code",
   "execution_count": 25,
   "metadata": {
    "scrolled": true
   },
   "outputs": [
    {
     "name": "stdout",
     "output_type": "stream",
     "text": [
      "      Team1ID  p1ERA  p1WHIP  p1K9   t1BA  t1OBP  t1SLG  t1ERA  t1WHIP   t1K9  \\\n",
      "0        14.0   2.48   1.183  10.9  0.264  0.327  0.457   3.92    1.25   9.45   \n",
      "1         5.0   3.28   1.246  12.9  0.230  0.297  0.400   4.47    1.31   9.52   \n",
      "2        23.0   1.83   0.814  15.3  0.227  0.317  0.388   3.32    1.16  10.08   \n",
      "3        17.0   3.71   1.275   6.6  0.227  0.306  0.398   4.20    1.34   8.90   \n",
      "4        26.0   3.89   1.200   7.8  0.243  0.322  0.403   4.49    1.32   9.32   \n",
      "...       ...    ...     ...   ...    ...    ...    ...    ...     ...    ...   \n",
      "1161      7.0   5.31   1.253   8.7  0.242  0.303  0.392   4.95    1.43   8.86   \n",
      "1162     25.0   5.54   1.395   9.3  0.236  0.315  0.385   3.66    1.22   9.67   \n",
      "1163     21.0  10.80   1.800  12.6  0.267  0.341  0.440   3.76    1.22   9.20   \n",
      "1164      4.0   4.14   1.298  11.4  0.251  0.334  0.414   3.64    1.20  10.25   \n",
      "1165     10.0   3.28   1.058   9.1  0.233  0.312  0.402   3.66    1.21   8.55   \n",
      "\n",
      "      Team2ID  p2ERA  p2WHIP  p2K9   t2BA  t2OBP  t2SLG  t2ERA  t2WHIP  t2K9  \n",
      "0         9.0   9.45   2.175  14.9  0.233  0.322  0.389   3.81    1.18  9.68  \n",
      "1         6.0   3.44   1.203   7.1  0.241  0.311  0.399   4.59    1.35  8.14  \n",
      "2         8.0   7.83   1.649   5.2  0.244  0.317  0.429   4.99    1.34  8.44  \n",
      "3        27.0   5.76   1.382  12.4  0.236  0.308  0.365   5.04    1.40  8.52  \n",
      "4        16.0   5.68   1.474   6.6  0.242  0.321  0.428   4.12    1.30  9.14  \n",
      "...       ...    ...     ...   ...    ...    ...    ...    ...     ...   ...  \n",
      "1161      3.0   4.56   1.490   7.6  0.256  0.320  0.438   4.21    1.38  9.48  \n",
      "1162     16.0   4.32   1.342   9.2  0.242  0.321  0.428   4.12    1.30  9.14  \n",
      "1163      2.0   3.95   1.488  13.0  0.237  0.302  0.399   5.39    1.46  8.52  \n",
      "1164      8.0   4.94   1.268   9.7  0.244  0.317  0.429   4.99    1.34  8.44  \n",
      "1165     13.0   5.23   1.229   8.3  0.225  0.295  0.373   4.66    1.34  8.07  \n",
      "\n",
      "[1166 rows x 20 columns]\n"
     ]
    }
   ],
   "source": [
    "##running through games and adding neccessary data\n",
    "result = []\n",
    "\n",
    "for m in range(4,7):\n",
    "    for d in range(1,31):\n",
    "        schedules = mlb.games(2021,m,d)\n",
    "        games = mlb.combine_games(schedules)\n",
    "        for game in games:\n",
    "            try:\n",
    "                ran = random.randint(0,1)\n",
    "                if ran == 0:\n",
    "                    t1 = True\n",
    "                    pitcher1 = game.w_pitcher\n",
    "                    team1 = game.w_team\n",
    "                    pitcher2 = game.l_pitcher\n",
    "                    team2 = game.l_team\n",
    "                else:\n",
    "                    t1 = False\n",
    "                    pitcher2 = game.w_pitcher\n",
    "                    team2 = game.w_team\n",
    "                    pitcher1 = game.l_pitcher\n",
    "                    team1 = game.l_team\n",
    "            except AttributeError:\n",
    "                continue\n",
    "            try:\n",
    "                team1 = frame.loc[frame['Team'] == init[team1]]\n",
    "                df = {\"Team1ID\": team1.teamIDfg.values[0]}\n",
    "                p1 = pitching.loc[pitching['Name'] == pitcher1]\n",
    "                p1df = {\"p1ERA\": p1.ERA.values[0], \"p1WHIP\": p1.WHIP.values[0], \"p1K9\": p1.SO9.values[0]}\n",
    "                Merge(p1df,df)\n",
    "                t1bdf = {\"t1BA\": team1.AVG.values[0] ,\"t1OBP\": team1.OBP.values[0], \"t1SLG\": team1.SLG.values[0]}\n",
    "                Merge(t1bdf, df)\n",
    "                t1pdf = {\"t1ERA\": team1.ERA.values[0], \"t1WHIP\": team1.WHIP.values[0], \"t1K9\": team1.K9.values[0]}\n",
    "                Merge(t1pdf,df)\n",
    "                p2 = pitching.loc[pitching['Name'] == pitcher2]\n",
    "                team2 = frame.loc[frame['Team'] == init[team2]]\n",
    "                p2df = {\"Team2ID\": team2.teamIDfg.values[0], \"p2ERA\": p2.ERA.values[0], \"p2WHIP\": p2.WHIP.values[0] ,\"p2K9\": p2.SO9.values[0]}\n",
    "                Merge(p2df,df)\n",
    "                t2bdf = {\"t2BA\": team2.AVG.values[0], \"t2OBP\": team2.OBP.values[0], \"t2SLG\": team2.SLG.values[0]}\n",
    "                Merge(t2bdf,df)\n",
    "                t2pdf = {\"t2ERA\": team2.ERA.values[0] , \"t2WHIP\": team2.WHIP.values[0] ,\"t2K9\": team2.K9.values[0]}\n",
    "                Merge(t2pdf,df)\n",
    "                data = data.append(df,ignore_index=True)\n",
    "                if t1:\n",
    "                    result.append([1,0])\n",
    "                else:\n",
    "                    result.append([0,1])\n",
    "            except IndexError:\n",
    "                continue\n",
    "print(data)\n"
   ]
  },
  {
   "cell_type": "code",
   "execution_count": 26,
   "metadata": {},
   "outputs": [],
   "source": [
    "model = tf.keras.Sequential([\n",
    "        tf.keras.layers.InputLayer(input_shape=(20,)),\n",
    "        tf.keras.layers.Dense(512, activation='relu'),\n",
    "        tf.keras.layers.Dense(256, activation='relu'),\n",
    "        tf.keras.layers.Dense(256, activation='relu'),\n",
    "        tf.keras.layers.Dense(256, activation='relu'),\n",
    "        tf.keras.layers.Dense(128, activation='relu'),\n",
    "        tf.keras.layers.Dense(2,activation = 'softmax')])"
   ]
  },
  {
   "cell_type": "code",
   "execution_count": 27,
   "metadata": {},
   "outputs": [],
   "source": [
    "data = np.array(data)\n",
    "result = np.array(result)\n",
    "X_train, X_test, y_train, y_test = train_test_split(data,\n",
    "                                                    result,\n",
    "                                                    test_size=0.33,\n",
    "                                                    random_state=42)\n"
   ]
  },
  {
   "cell_type": "code",
   "execution_count": 28,
   "metadata": {},
   "outputs": [
    {
     "name": "stdout",
     "output_type": "stream",
     "text": [
      "Epoch 1/10\n",
      "25/25 [==============================] - 0s 1ms/step - loss: 0.2749 - accuracy: 0.5198\n",
      "Epoch 2/10\n",
      "25/25 [==============================] - 0s 1ms/step - loss: 0.2407 - accuracy: 0.5877\n",
      "Epoch 3/10\n",
      "25/25 [==============================] - 0s 1ms/step - loss: 0.2350 - accuracy: 0.5967\n",
      "Epoch 4/10\n",
      "25/25 [==============================] - 0s 1ms/step - loss: 0.2361 - accuracy: 0.5890\n",
      "Epoch 5/10\n",
      "25/25 [==============================] - 0s 1ms/step - loss: 0.2230 - accuracy: 0.6402\n",
      "Epoch 6/10\n",
      "25/25 [==============================] - 0s 1ms/step - loss: 0.2336 - accuracy: 0.5864\n",
      "Epoch 7/10\n",
      "25/25 [==============================] - 0s 1ms/step - loss: 0.2253 - accuracy: 0.6351\n",
      "Epoch 8/10\n",
      "25/25 [==============================] - 0s 1ms/step - loss: 0.2235 - accuracy: 0.6095\n",
      "Epoch 9/10\n",
      "25/25 [==============================] - 0s 1ms/step - loss: 0.2187 - accuracy: 0.6236\n",
      "Epoch 10/10\n",
      "25/25 [==============================] - 0s 1ms/step - loss: 0.2240 - accuracy: 0.6159\n"
     ]
    },
    {
     "data": {
      "text/plain": [
       "<tensorflow.python.keras.callbacks.History at 0x1ebe21a7fd0>"
      ]
     },
     "execution_count": 28,
     "metadata": {},
     "output_type": "execute_result"
    }
   ],
   "source": [
    "model.compile(optimizer='adam',\n",
    "              loss=tf.keras.losses.MeanSquaredError(),\n",
    "              metrics=['accuracy'])\n",
    "model.fit(X_train, y_train, epochs=10)"
   ]
  },
  {
   "cell_type": "code",
   "execution_count": 29,
   "metadata": {},
   "outputs": [
    {
     "name": "stdout",
     "output_type": "stream",
     "text": [
      "13/13 - 0s - loss: 0.2277 - accuracy: 0.6364\n"
     ]
    }
   ],
   "source": [
    "test_loss, test_acc = model.evaluate(X_test,  y_test, verbose=2)"
   ]
  },
  {
   "cell_type": "code",
   "execution_count": 30,
   "metadata": {},
   "outputs": [],
   "source": [
    "tdata = pandas.DataFrame(columns = cols)"
   ]
  },
  {
   "cell_type": "code",
   "execution_count": 31,
   "metadata": {},
   "outputs": [],
   "source": [
    "def fetch_data(team1, pitcher1, team2, pitcher2):\n",
    "    tdata = pandas.DataFrame(columns = cols)\n",
    "    team1 = frame.loc[frame['Team'] == init[team1]]\n",
    "    df = {\"Team1ID\": team1.teamIDfg.values[0]}\n",
    "    p1 = pitching.loc[pitching['Name'] == pitcher1]\n",
    "    p1df = {\"p1ERA\": p1.ERA.values[0], \"p1WHIP\": p1.WHIP.values[0], \"p1K9\": p1.SO9.values[0]}\n",
    "    Merge(p1df,df)\n",
    "    t1bdf = {\"t1BA\": team1.AVG.values[0] ,\"t1OBP\": team1.OBP.values[0], \"t1SLG\": team1.SLG.values[0]}\n",
    "    Merge(t1bdf, df)\n",
    "    t1pdf = {\"t1ERA\": team1.ERA.values[0], \"t1WHIP\": team1.WHIP.values[0], \"t1K9\": team1.K9.values[0]}\n",
    "    Merge(t1pdf,df)\n",
    "    p2 = pitching.loc[pitching['Name'] == pitcher2]\n",
    "    team2 = frame.loc[frame['Team'] == init[team2]]\n",
    "    p2df = {\"Team2ID\": team2.teamIDfg.values[0], \"p2ERA\": p2.ERA.values[0], \"p2WHIP\": p2.WHIP.values[0] ,\"p2K9\": p2.SO9.values[0]}\n",
    "    Merge(p2df,df)\n",
    "    t2bdf = {\"t2BA\": team2.AVG.values[0], \"t2OBP\": team2.OBP.values[0], \"t2SLG\": team2.SLG.values[0]}\n",
    "    Merge(t2bdf,df)\n",
    "    t2pdf = {\"t2ERA\": team2.ERA.values[0] , \"t2WHIP\": team2.WHIP.values[0] ,\"t2K9\": team2.K9.values[0]}\n",
    "    Merge(t2pdf,df)\n",
    "    tdata = tdata.append(df,ignore_index=True)\n",
    "    tdata = np.array(tdata)\n",
    "    return tdata"
   ]
  },
  {
   "cell_type": "code",
   "execution_count": 32,
   "metadata": {},
   "outputs": [
    {
     "name": "stdout",
     "output_type": "stream",
     "text": [
      "1/1 - 0s\n"
     ]
    },
    {
     "data": {
      "text/plain": [
       "array([[0.29093754, 0.7090625 ]], dtype=float32)"
      ]
     },
     "execution_count": 32,
     "metadata": {},
     "output_type": "execute_result"
    }
   ],
   "source": [
    "##model that allows team and pitcher input to make a prediction\n",
    "model.predict(fetch_data(\"D-backs\",\"Madison Bumgarner\", \"Rangers\", \"Tylor Megill\"), verbose = 2)"
   ]
  },
  {
   "cell_type": "code",
   "execution_count": 33,
   "metadata": {},
   "outputs": [
    {
     "name": "stdout",
     "output_type": "stream",
     "text": [
      "Phillies Zack Wheeler Nationals Patrick Corbin\n",
      "1/1 - 0s\n",
      "[[0.6558596  0.34414038]]\n",
      "Orioles Alexander Wells Yankees Luis Gil\n",
      "Pass\n",
      "Indians Zach Plesac Blue Jays Hyun Jin Ryu\n",
      "1/1 - 0s\n",
      "[[0.42751706 0.57248294]]\n",
      "Red Sox Garrett Richards Tigers Wily Peralta\n",
      "1/1 - 0s\n",
      "[[0.43972802 0.56027204]]\n",
      "Mariners Yusei Kikuchi Rays Luis Patino\n",
      "1/1 - 0s\n",
      "[[0.4357567 0.5642433]]\n",
      "Twins Kenta Maeda Reds Tyler Mahle\n",
      "1/1 - 0s\n",
      "[[0.44449008 0.55550987]]\n",
      "Mets Taijuan Walker Marlins Nick Neidert\n",
      "1/1 - 0s\n",
      "[[0.4932015 0.5067985]]\n",
      "Angels Jose Suarez Rangers Jordan Lyles\n",
      "1/1 - 0s\n",
      "[[0.64931226 0.35068768]]\n",
      "Royals Kris Bubic White Sox Dylan Cease\n",
      "1/1 - 0s\n",
      "[[0.38202232 0.6179777 ]]\n",
      "Pirates Max Kranick Brewers Adrian Houser\n",
      "1/1 - 0s\n",
      "[[0.26937872 0.7306213 ]]\n",
      "Braves Max Fried Cardinals Jon Lester\n",
      "1/1 - 0s\n",
      "[[0.5229623 0.4770377]]\n",
      "Cubs Zach Davies Rockies Kyle Freeland\n",
      "1/1 - 0s\n",
      "[[0.4252492  0.57475084]]\n",
      "Padres Blake Snell Athletics . \n",
      "Pass\n",
      "Giants Johnny Cueto D-backs Madison Bumgarner\n",
      "1/1 - 0s\n",
      "[[0.57689154 0.4231084 ]]\n",
      "Astros Lance McCullers Jr. Dodgers Walker Buehler\n",
      "1/1 - 0s\n",
      "[[0.38012815 0.61987185]]\n"
     ]
    }
   ],
   "source": [
    "games = mlb.day(2021,8,3)\n",
    "for a_game in games:\n",
    "    try:\n",
    "        ateam = a_game.away_team\n",
    "        apitcher = a_game.p_pitcher_home\n",
    "        hteam = a_game.home_team\n",
    "        hpitcher = a_game.p_pitcher_away\n",
    "        if apitcher and hpitcher != '.':\n",
    "            try:\n",
    "                print(ateam, apitcher, hteam, hpitcher)\n",
    "                print(model.predict(fetch_data(ateam ,apitcher, hteam, hpitcher), verbose = 2))\n",
    "            except IndexError:\n",
    "                print(\"Pass\")\n",
    "                continue\n",
    "    except AttributeError:\n",
    "        continue"
   ]
  },
  {
   "cell_type": "code",
   "execution_count": null,
   "metadata": {},
   "outputs": [],
   "source": []
  }
 ],
 "metadata": {
  "kernelspec": {
   "display_name": "Python 3",
   "language": "python",
   "name": "python3"
  },
  "language_info": {
   "codemirror_mode": {
    "name": "ipython",
    "version": 3
   },
   "file_extension": ".py",
   "mimetype": "text/x-python",
   "name": "python",
   "nbconvert_exporter": "python",
   "pygments_lexer": "ipython3",
   "version": "3.8.5"
  }
 },
 "nbformat": 4,
 "nbformat_minor": 4
}
